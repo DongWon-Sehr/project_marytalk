{
 "cells": [
  {
   "cell_type": "code",
   "execution_count": 329,
   "metadata": {},
   "outputs": [],
   "source": [
    "import numpy as np\n",
    "import pandas as pd\n",
    "from pandas import Series, DataFrame\n",
    "import glob"
   ]
  },
  {
   "cell_type": "code",
   "execution_count": 330,
   "metadata": {
    "scrolled": false
   },
   "outputs": [
    {
     "data": {
      "text/plain": [
       "['./seoul_hairsalon_data\\\\dobong_salon.csv',\n",
       " './seoul_hairsalon_data\\\\dondaemun_salon.csv',\n",
       " './seoul_hairsalon_data\\\\dongjak_salon.csv',\n",
       " './seoul_hairsalon_data\\\\enpyeong_salon.csv',\n",
       " './seoul_hairsalon_data\\\\gangbuk_salon.csv',\n",
       " './seoul_hairsalon_data\\\\gangdong_salon.csv',\n",
       " './seoul_hairsalon_data\\\\gangnam_salon.csv',\n",
       " './seoul_hairsalon_data\\\\gangseo_salon.csv',\n",
       " './seoul_hairsalon_data\\\\geumcheon_salon.csv',\n",
       " './seoul_hairsalon_data\\\\guro_salon.csv',\n",
       " './seoul_hairsalon_data\\\\gwanak_salon.csv',\n",
       " './seoul_hairsalon_data\\\\gwangjin_salon.csv',\n",
       " './seoul_hairsalon_data\\\\jongro_salon.csv',\n",
       " './seoul_hairsalon_data\\\\joonggu_salon.csv',\n",
       " './seoul_hairsalon_data\\\\joonglang_salon.csv',\n",
       " './seoul_hairsalon_data\\\\mapo_salon.csv',\n",
       " './seoul_hairsalon_data\\\\nowon_salon.csv',\n",
       " './seoul_hairsalon_data\\\\seocho_salon.csv',\n",
       " './seoul_hairsalon_data\\\\seodaemun_salon.csv',\n",
       " './seoul_hairsalon_data\\\\seongbuk_salon.csv',\n",
       " './seoul_hairsalon_data\\\\seongdong_salon.csv',\n",
       " './seoul_hairsalon_data\\\\songpa_salon.csv',\n",
       " './seoul_hairsalon_data\\\\yangcheon_salon.csv',\n",
       " './seoul_hairsalon_data\\\\ydp_salon.csv',\n",
       " './seoul_hairsalon_data\\\\yongsan_salon.csv']"
      ]
     },
     "execution_count": 330,
     "metadata": {},
     "output_type": "execute_result"
    }
   ],
   "source": [
    "# glob 모듈의 glob 함수를 이용해서 구별 csv 파일이름 불러오기\n",
    "# 각자 실행 환경 및 디렉토리 설정에 맞게 경로를 잘 맞출 것\n",
    "file_list = glob.glob('./seoul_hairsalon_data/*.csv')\n",
    "file_list"
   ]
  },
  {
   "cell_type": "code",
   "execution_count": 331,
   "metadata": {
    "scrolled": true
   },
   "outputs": [
    {
     "data": {
      "text/plain": [
       "25"
      ]
     },
     "execution_count": 331,
     "metadata": {},
     "output_type": "execute_result"
    }
   ],
   "source": [
    "# 파일 개수 확인\n",
    "len(file_list)"
   ]
  },
  {
   "cell_type": "code",
   "execution_count": 332,
   "metadata": {},
   "outputs": [],
   "source": [
    "# 한글로 지역명이 담긴 list 생성\n",
    "district_list = [\n",
    "'도봉'\n",
    ", '동대문'\n",
    ", '동작'\n",
    ", '은평'\n",
    ", '강북'\n",
    ", '강동'\n",
    ", '강남'\n",
    ", '강서'\n",
    ", '금천'\n",
    ", '구로'\n",
    ", '관악'\n",
    ", '광진'\n",
    ", '종로'\n",
    ", '중구'\n",
    ", '중랑'\n",
    ", '마포'\n",
    ", '노원'\n",
    ", '서초'\n",
    ", '서대문'\n",
    ", '성북'\n",
    ", '성동'\n",
    ", '송파'\n",
    ", '양천'\n",
    ", '영등포'\n",
    " ,'용산']"
   ]
  },
  {
   "cell_type": "code",
   "execution_count": 333,
   "metadata": {},
   "outputs": [
    {
     "data": {
      "text/plain": [
       "25"
      ]
     },
     "execution_count": 333,
     "metadata": {},
     "output_type": "execute_result"
    }
   ],
   "source": [
    "# 지역명 개수 확인\n",
    "len(district_list)"
   ]
  },
  {
   "cell_type": "code",
   "execution_count": 334,
   "metadata": {},
   "outputs": [],
   "source": [
    "# 25개의 csv파일을 읽어 생성한 DF를 저장할 리스트 생성\n",
    "# range() 함수로 25개 요소 생성\n",
    "df_list = list(range(25))"
   ]
  },
  {
   "cell_type": "code",
   "execution_count": 335,
   "metadata": {},
   "outputs": [],
   "source": [
    "# 파일명이 저장된 file_list에서 하나씩 가져와 read_csv() 함수로 df_list에 저장\n",
    "for i, file in enumerate(file_list):\n",
    "    df_list[i] = pd.read_csv(file, encoding='cp949')"
   ]
  },
  {
   "cell_type": "code",
   "execution_count": 336,
   "metadata": {},
   "outputs": [
    {
     "data": {
      "text/plain": [
       "[        시군구코드  업종코드    년도  업소일련번호      업종명      신고일자      업소명  영업장면적(㎡)  \\\n",
       " 0     3090000   211  1971       1  미용업(일반)  19710527    샛별미용실     29.05   \n",
       " 1     3090000   211  1974       1  미용업(일반)  19740510     장미용실     13.69   \n",
       " 2     3090000   211  1977       1  미용업(일반)  19770128  자기연출미용실     18.00   \n",
       " 3     3090000   211  1977       2  미용업(일반)  19770928       세나     18.36   \n",
       " 4     3090000   211  1978       1  미용업(일반)  19780522       형제     49.50   \n",
       " ...       ...   ...   ...     ...      ...       ...      ...       ...   \n",
       " 1061  3090000   211  2020       3  미용업(일반)  20200123     다연헤어     26.40   \n",
       " 1062  3090000   211  2020       4  미용업(일반)  20200213  리안헤어신창점     46.29   \n",
       " 1063  3090000   211  2020       5  미용업(일반)  20200218   수앤지헤어샵     27.00   \n",
       " 1064  3090000   211  2020       6  미용업(일반)  20200218    강민주헤어     16.96   \n",
       " 1065  3090000   211  2020       7  미용업(일반)  20200219      헤어팜     15.00   \n",
       " \n",
       "          소재지전화번호    영업자시작일  ...  양실수  의자수  욕실수  발한실 세탁기수  \\\n",
       " 0     02 9933947  19710527  ...  0.0  4.0  0.0    N  NaN   \n",
       " 1        9024674  20030318  ...  NaN  2.0  NaN    N  NaN   \n",
       " 2     02 9916085  19990127  ...  0.0  3.0  0.0    N  0.0   \n",
       " 3     02 9928457  19770928  ...  NaN  2.0  NaN    N  NaN   \n",
       " 4     02 9542434  19780522  ...  NaN  5.0  NaN    N  NaN   \n",
       " ...          ...       ...  ...  ...  ...  ...  ...  ...   \n",
       " 1061         NaN  20200123  ...  0.0  0.0  0.0    N  0.0   \n",
       " 1062         NaN  20200213  ...  0.0  0.0  0.0    N  0.0   \n",
       " 1063         NaN  20200218  ...  0.0  0.0  0.0    N  0.0   \n",
       " 1064         NaN  20200218  ...  0.0  0.0  0.0    N  0.0   \n",
       " 1065         NaN  20200219  ...  0.0  0.0  0.0    N  0.0   \n",
       " \n",
       "                     허가(신고)번호  내외국인구분   국적  \\\n",
       " 0     3090000-211-1971-00001     내국인  NaN   \n",
       " 1     3090000-211-1974-00001     내국인  NaN   \n",
       " 2     3090000-211-1977-00001     내국인  NaN   \n",
       " 3     3090000-211-1977-00002     내국인  NaN   \n",
       " 4     3090000-211-1978-00001     내국인  NaN   \n",
       " ...                      ...     ...  ...   \n",
       " 1061  3090000-211-2020-00003     내국인  NaN   \n",
       " 1062  3090000-211-2020-00004     내국인  NaN   \n",
       " 1063  3090000-211-2020-00005     내국인  NaN   \n",
       " 1064  3090000-211-2020-00006     내국인  NaN   \n",
       " 1065  3090000-211-2020-00007     내국인  NaN   \n",
       " \n",
       "                                              소재지도로명  \\\n",
       " 0                           서울특별시 도봉구 삼양로 590 (쌍문동)   \n",
       " 1                        서울특별시 도봉구 도봉로121길 19 (쌍문동)   \n",
       " 2                        서울특별시 도봉구 삼양로154길 33 (쌍문동)   \n",
       " 3                          서울특별시 도봉구 덕릉로57길 22 (창동)   \n",
       " 4                           서울특별시 도봉구 마들로 731 (도봉동)   \n",
       " ...                                             ...   \n",
       " 1061                   서울특별시 도봉구 도당로17길 22 1층 (방학동)   \n",
       " 1062                      서울특별시 도봉구 덕릉로 235 1층 (창동)   \n",
       " 1063                   서울특별시 도봉구 도봉로110바길 5 1층 (창동)   \n",
       " 1064  서울특별시 도봉구 덕릉로59아길 58 601동 1층 101호 (창동 북한산팰리스)   \n",
       " 1065                  서울특별시 도봉구 삼양로154길 42 1층 (쌍문동)   \n",
       " \n",
       "                                           소재지지번  \n",
       " 0                     서울특별시 도봉구 쌍문동  507번지 4호    \n",
       " 1                    서울특별시 도봉구 쌍문동  81번지 283호    \n",
       " 2                     서울특별시 도봉구 쌍문동  493번지 5호    \n",
       " 3                     서울특별시 도봉구 창동  581번지 27호    \n",
       " 4                    서울특별시 도봉구 도봉동  626번지 90호    \n",
       " ...                                         ...  \n",
       " 1061                   서울특별시 도봉구 방학동  642번지  1층  \n",
       " 1062               서울특별시 도봉구 창동  578번지 146호  1층  \n",
       " 1063                서울특별시 도봉구 창동  651번지 34호  1층  \n",
       " 1064  서울특별시 도봉구 창동  607번지 25호 601 북한산팰리스 1층-101  \n",
       " 1065                서울특별시 도봉구 쌍문동  495번지 9호  1층  \n",
       " \n",
       " [1066 rows x 29 columns]]"
      ]
     },
     "execution_count": 336,
     "metadata": {},
     "output_type": "execute_result"
    }
   ],
   "source": [
    "# 25개 DF가 모두 저장된 df_list\n",
    "df_list[:1]"
   ]
  },
  {
   "cell_type": "code",
   "execution_count": 337,
   "metadata": {},
   "outputs": [
    {
     "data": {
      "text/html": [
       "<div>\n",
       "<style scoped>\n",
       "    .dataframe tbody tr th:only-of-type {\n",
       "        vertical-align: middle;\n",
       "    }\n",
       "\n",
       "    .dataframe tbody tr th {\n",
       "        vertical-align: top;\n",
       "    }\n",
       "\n",
       "    .dataframe thead th {\n",
       "        text-align: right;\n",
       "    }\n",
       "</style>\n",
       "<table border=\"1\" class=\"dataframe\">\n",
       "  <thead>\n",
       "    <tr style=\"text-align: right;\">\n",
       "      <th></th>\n",
       "      <th>시군구코드</th>\n",
       "      <th>업종코드</th>\n",
       "      <th>년도</th>\n",
       "      <th>업소일련번호</th>\n",
       "      <th>업종명</th>\n",
       "      <th>신고일자</th>\n",
       "      <th>업소명</th>\n",
       "      <th>영업장면적(㎡)</th>\n",
       "      <th>소재지전화번호</th>\n",
       "      <th>영업자시작일</th>\n",
       "      <th>...</th>\n",
       "      <th>양실수</th>\n",
       "      <th>의자수</th>\n",
       "      <th>욕실수</th>\n",
       "      <th>발한실</th>\n",
       "      <th>세탁기수</th>\n",
       "      <th>허가(신고)번호</th>\n",
       "      <th>내외국인구분</th>\n",
       "      <th>국적</th>\n",
       "      <th>소재지도로명</th>\n",
       "      <th>소재지지번</th>\n",
       "    </tr>\n",
       "  </thead>\n",
       "  <tbody>\n",
       "    <tr>\n",
       "      <td>0</td>\n",
       "      <td>3090000</td>\n",
       "      <td>211</td>\n",
       "      <td>1971</td>\n",
       "      <td>1</td>\n",
       "      <td>미용업(일반)</td>\n",
       "      <td>19710527</td>\n",
       "      <td>샛별미용실</td>\n",
       "      <td>29.05</td>\n",
       "      <td>02 9933947</td>\n",
       "      <td>19710527</td>\n",
       "      <td>...</td>\n",
       "      <td>0.0</td>\n",
       "      <td>4.0</td>\n",
       "      <td>0.0</td>\n",
       "      <td>N</td>\n",
       "      <td>NaN</td>\n",
       "      <td>3090000-211-1971-00001</td>\n",
       "      <td>내국인</td>\n",
       "      <td>NaN</td>\n",
       "      <td>서울특별시 도봉구 삼양로 590 (쌍문동)</td>\n",
       "      <td>서울특별시 도봉구 쌍문동  507번지 4호</td>\n",
       "    </tr>\n",
       "    <tr>\n",
       "      <td>1</td>\n",
       "      <td>3090000</td>\n",
       "      <td>211</td>\n",
       "      <td>1974</td>\n",
       "      <td>1</td>\n",
       "      <td>미용업(일반)</td>\n",
       "      <td>19740510</td>\n",
       "      <td>장미용실</td>\n",
       "      <td>13.69</td>\n",
       "      <td>9024674</td>\n",
       "      <td>20030318</td>\n",
       "      <td>...</td>\n",
       "      <td>NaN</td>\n",
       "      <td>2.0</td>\n",
       "      <td>NaN</td>\n",
       "      <td>N</td>\n",
       "      <td>NaN</td>\n",
       "      <td>3090000-211-1974-00001</td>\n",
       "      <td>내국인</td>\n",
       "      <td>NaN</td>\n",
       "      <td>서울특별시 도봉구 도봉로121길 19 (쌍문동)</td>\n",
       "      <td>서울특별시 도봉구 쌍문동  81번지 283호</td>\n",
       "    </tr>\n",
       "    <tr>\n",
       "      <td>2</td>\n",
       "      <td>3090000</td>\n",
       "      <td>211</td>\n",
       "      <td>1977</td>\n",
       "      <td>1</td>\n",
       "      <td>미용업(일반)</td>\n",
       "      <td>19770128</td>\n",
       "      <td>자기연출미용실</td>\n",
       "      <td>18.00</td>\n",
       "      <td>02 9916085</td>\n",
       "      <td>19990127</td>\n",
       "      <td>...</td>\n",
       "      <td>0.0</td>\n",
       "      <td>3.0</td>\n",
       "      <td>0.0</td>\n",
       "      <td>N</td>\n",
       "      <td>0.0</td>\n",
       "      <td>3090000-211-1977-00001</td>\n",
       "      <td>내국인</td>\n",
       "      <td>NaN</td>\n",
       "      <td>서울특별시 도봉구 삼양로154길 33 (쌍문동)</td>\n",
       "      <td>서울특별시 도봉구 쌍문동  493번지 5호</td>\n",
       "    </tr>\n",
       "    <tr>\n",
       "      <td>3</td>\n",
       "      <td>3090000</td>\n",
       "      <td>211</td>\n",
       "      <td>1977</td>\n",
       "      <td>2</td>\n",
       "      <td>미용업(일반)</td>\n",
       "      <td>19770928</td>\n",
       "      <td>세나</td>\n",
       "      <td>18.36</td>\n",
       "      <td>02 9928457</td>\n",
       "      <td>19770928</td>\n",
       "      <td>...</td>\n",
       "      <td>NaN</td>\n",
       "      <td>2.0</td>\n",
       "      <td>NaN</td>\n",
       "      <td>N</td>\n",
       "      <td>NaN</td>\n",
       "      <td>3090000-211-1977-00002</td>\n",
       "      <td>내국인</td>\n",
       "      <td>NaN</td>\n",
       "      <td>서울특별시 도봉구 덕릉로57길 22 (창동)</td>\n",
       "      <td>서울특별시 도봉구 창동  581번지 27호</td>\n",
       "    </tr>\n",
       "    <tr>\n",
       "      <td>4</td>\n",
       "      <td>3090000</td>\n",
       "      <td>211</td>\n",
       "      <td>1978</td>\n",
       "      <td>1</td>\n",
       "      <td>미용업(일반)</td>\n",
       "      <td>19780522</td>\n",
       "      <td>형제</td>\n",
       "      <td>49.50</td>\n",
       "      <td>02 9542434</td>\n",
       "      <td>19780522</td>\n",
       "      <td>...</td>\n",
       "      <td>NaN</td>\n",
       "      <td>5.0</td>\n",
       "      <td>NaN</td>\n",
       "      <td>N</td>\n",
       "      <td>NaN</td>\n",
       "      <td>3090000-211-1978-00001</td>\n",
       "      <td>내국인</td>\n",
       "      <td>NaN</td>\n",
       "      <td>서울특별시 도봉구 마들로 731 (도봉동)</td>\n",
       "      <td>서울특별시 도봉구 도봉동  626번지 90호</td>\n",
       "    </tr>\n",
       "  </tbody>\n",
       "</table>\n",
       "<p>5 rows × 29 columns</p>\n",
       "</div>"
      ],
      "text/plain": [
       "     시군구코드  업종코드    년도  업소일련번호      업종명      신고일자      업소명  영업장면적(㎡)  \\\n",
       "0  3090000   211  1971       1  미용업(일반)  19710527    샛별미용실     29.05   \n",
       "1  3090000   211  1974       1  미용업(일반)  19740510     장미용실     13.69   \n",
       "2  3090000   211  1977       1  미용업(일반)  19770128  자기연출미용실     18.00   \n",
       "3  3090000   211  1977       2  미용업(일반)  19770928       세나     18.36   \n",
       "4  3090000   211  1978       1  미용업(일반)  19780522       형제     49.50   \n",
       "\n",
       "      소재지전화번호    영업자시작일  ...  양실수  의자수  욕실수  발한실 세탁기수                허가(신고)번호  \\\n",
       "0  02 9933947  19710527  ...  0.0  4.0  0.0    N  NaN  3090000-211-1971-00001   \n",
       "1     9024674  20030318  ...  NaN  2.0  NaN    N  NaN  3090000-211-1974-00001   \n",
       "2  02 9916085  19990127  ...  0.0  3.0  0.0    N  0.0  3090000-211-1977-00001   \n",
       "3  02 9928457  19770928  ...  NaN  2.0  NaN    N  NaN  3090000-211-1977-00002   \n",
       "4  02 9542434  19780522  ...  NaN  5.0  NaN    N  NaN  3090000-211-1978-00001   \n",
       "\n",
       "   내외국인구분   국적                      소재지도로명                       소재지지번  \n",
       "0     내국인  NaN     서울특별시 도봉구 삼양로 590 (쌍문동)   서울특별시 도봉구 쌍문동  507번지 4호    \n",
       "1     내국인  NaN  서울특별시 도봉구 도봉로121길 19 (쌍문동)  서울특별시 도봉구 쌍문동  81번지 283호    \n",
       "2     내국인  NaN  서울특별시 도봉구 삼양로154길 33 (쌍문동)   서울특별시 도봉구 쌍문동  493번지 5호    \n",
       "3     내국인  NaN    서울특별시 도봉구 덕릉로57길 22 (창동)   서울특별시 도봉구 창동  581번지 27호    \n",
       "4     내국인  NaN     서울특별시 도봉구 마들로 731 (도봉동)  서울특별시 도봉구 도봉동  626번지 90호    \n",
       "\n",
       "[5 rows x 29 columns]"
      ]
     },
     "execution_count": 337,
     "metadata": {},
     "output_type": "execute_result"
    }
   ],
   "source": [
    "# df_list의 0번째 인덱스에는 도봉구의 데이터(DF)가 들어있다.\n",
    "df_list[0].head()"
   ]
  },
  {
   "cell_type": "code",
   "execution_count": 338,
   "metadata": {},
   "outputs": [
    {
     "data": {
      "text/plain": [
       "Index(['시군구코드', '업종코드', '년도', '업소일련번호', '업종명', '신고일자', '업소명', '영업장면적(㎡)',\n",
       "       '소재지전화번호', '영업자시작일', '법인명', '소재지시작일', '행정동명', '폐업일자', '폐업사유', '업태명',\n",
       "       '위생교육수료일자', '객실수', '한실수', '양실수', '의자수', '욕실수', '발한실', '세탁기수',\n",
       "       '허가(신고)번호', '내외국인구분', '국적', '소재지도로명', '소재지지번'],\n",
       "      dtype='object')"
      ]
     },
     "execution_count": 338,
     "metadata": {},
     "output_type": "execute_result"
    }
   ],
   "source": [
    "# df_list에 저장된 각각의 DF에 column명만 불러오기 예시\n",
    "df_list[0].columns"
   ]
  },
  {
   "cell_type": "code",
   "execution_count": 339,
   "metadata": {},
   "outputs": [
    {
     "name": "stdout",
     "output_type": "stream",
     "text": [
      "False\n",
      "False\n",
      "False\n",
      "False\n",
      "False\n",
      "False\n",
      "False\n",
      "False\n",
      "False\n",
      "False\n",
      "False\n",
      "False\n",
      "False\n",
      "False\n",
      "False\n",
      "False\n",
      "False\n",
      "False\n",
      "False\n",
      "False\n",
      "False\n",
      "False\n",
      "False\n",
      "False\n"
     ]
    }
   ],
   "source": [
    "# 각각의 DF의 컬럼명이 같은지 비교\n",
    "for i, df in enumerate(df_list):\n",
    "    if i < 24:\n",
    "        # i번쨰 DF 컬럼과 i+1번째 DF 컬럼을 비교한 불리언 배열에 False가 있는지 출력\n",
    "        print(False in df_list[i].columns == df_list[i+1].columns ) \n",
    "    else:\n",
    "        break"
   ]
  },
  {
   "cell_type": "code",
   "execution_count": 340,
   "metadata": {},
   "outputs": [],
   "source": [
    "# 모든 DF의 컬럼명이 같음을 확인하였다."
   ]
  },
  {
   "cell_type": "code",
   "execution_count": 341,
   "metadata": {},
   "outputs": [],
   "source": [
    "# df_list에 저장된 모든 DF에 '지역' 상위 인덱스 추가하기\n",
    "for i, df in enumerate(df_list):\n",
    "    df_list[i].index = [[district_list[i]]*len(df_list[i]), df_list[i].index]"
   ]
  },
  {
   "cell_type": "code",
   "execution_count": 342,
   "metadata": {
    "scrolled": false
   },
   "outputs": [
    {
     "data": {
      "text/html": [
       "<div>\n",
       "<style scoped>\n",
       "    .dataframe tbody tr th:only-of-type {\n",
       "        vertical-align: middle;\n",
       "    }\n",
       "\n",
       "    .dataframe tbody tr th {\n",
       "        vertical-align: top;\n",
       "    }\n",
       "\n",
       "    .dataframe thead th {\n",
       "        text-align: right;\n",
       "    }\n",
       "</style>\n",
       "<table border=\"1\" class=\"dataframe\">\n",
       "  <thead>\n",
       "    <tr style=\"text-align: right;\">\n",
       "      <th></th>\n",
       "      <th></th>\n",
       "      <th>시군구코드</th>\n",
       "      <th>업종코드</th>\n",
       "      <th>년도</th>\n",
       "      <th>업소일련번호</th>\n",
       "      <th>업종명</th>\n",
       "      <th>신고일자</th>\n",
       "      <th>업소명</th>\n",
       "      <th>영업장면적(㎡)</th>\n",
       "      <th>소재지전화번호</th>\n",
       "      <th>영업자시작일</th>\n",
       "      <th>...</th>\n",
       "      <th>양실수</th>\n",
       "      <th>의자수</th>\n",
       "      <th>욕실수</th>\n",
       "      <th>발한실</th>\n",
       "      <th>세탁기수</th>\n",
       "      <th>허가(신고)번호</th>\n",
       "      <th>내외국인구분</th>\n",
       "      <th>국적</th>\n",
       "      <th>소재지도로명</th>\n",
       "      <th>소재지지번</th>\n",
       "    </tr>\n",
       "  </thead>\n",
       "  <tbody>\n",
       "    <tr>\n",
       "      <td rowspan=\"5\" valign=\"top\">도봉</td>\n",
       "      <td>0</td>\n",
       "      <td>3090000</td>\n",
       "      <td>211</td>\n",
       "      <td>1971</td>\n",
       "      <td>1</td>\n",
       "      <td>미용업(일반)</td>\n",
       "      <td>19710527</td>\n",
       "      <td>샛별미용실</td>\n",
       "      <td>29.05</td>\n",
       "      <td>02 9933947</td>\n",
       "      <td>19710527</td>\n",
       "      <td>...</td>\n",
       "      <td>0.0</td>\n",
       "      <td>4.0</td>\n",
       "      <td>0.0</td>\n",
       "      <td>N</td>\n",
       "      <td>NaN</td>\n",
       "      <td>3090000-211-1971-00001</td>\n",
       "      <td>내국인</td>\n",
       "      <td>NaN</td>\n",
       "      <td>서울특별시 도봉구 삼양로 590 (쌍문동)</td>\n",
       "      <td>서울특별시 도봉구 쌍문동  507번지 4호</td>\n",
       "    </tr>\n",
       "    <tr>\n",
       "      <td>1</td>\n",
       "      <td>3090000</td>\n",
       "      <td>211</td>\n",
       "      <td>1974</td>\n",
       "      <td>1</td>\n",
       "      <td>미용업(일반)</td>\n",
       "      <td>19740510</td>\n",
       "      <td>장미용실</td>\n",
       "      <td>13.69</td>\n",
       "      <td>9024674</td>\n",
       "      <td>20030318</td>\n",
       "      <td>...</td>\n",
       "      <td>NaN</td>\n",
       "      <td>2.0</td>\n",
       "      <td>NaN</td>\n",
       "      <td>N</td>\n",
       "      <td>NaN</td>\n",
       "      <td>3090000-211-1974-00001</td>\n",
       "      <td>내국인</td>\n",
       "      <td>NaN</td>\n",
       "      <td>서울특별시 도봉구 도봉로121길 19 (쌍문동)</td>\n",
       "      <td>서울특별시 도봉구 쌍문동  81번지 283호</td>\n",
       "    </tr>\n",
       "    <tr>\n",
       "      <td>2</td>\n",
       "      <td>3090000</td>\n",
       "      <td>211</td>\n",
       "      <td>1977</td>\n",
       "      <td>1</td>\n",
       "      <td>미용업(일반)</td>\n",
       "      <td>19770128</td>\n",
       "      <td>자기연출미용실</td>\n",
       "      <td>18.00</td>\n",
       "      <td>02 9916085</td>\n",
       "      <td>19990127</td>\n",
       "      <td>...</td>\n",
       "      <td>0.0</td>\n",
       "      <td>3.0</td>\n",
       "      <td>0.0</td>\n",
       "      <td>N</td>\n",
       "      <td>0.0</td>\n",
       "      <td>3090000-211-1977-00001</td>\n",
       "      <td>내국인</td>\n",
       "      <td>NaN</td>\n",
       "      <td>서울특별시 도봉구 삼양로154길 33 (쌍문동)</td>\n",
       "      <td>서울특별시 도봉구 쌍문동  493번지 5호</td>\n",
       "    </tr>\n",
       "    <tr>\n",
       "      <td>3</td>\n",
       "      <td>3090000</td>\n",
       "      <td>211</td>\n",
       "      <td>1977</td>\n",
       "      <td>2</td>\n",
       "      <td>미용업(일반)</td>\n",
       "      <td>19770928</td>\n",
       "      <td>세나</td>\n",
       "      <td>18.36</td>\n",
       "      <td>02 9928457</td>\n",
       "      <td>19770928</td>\n",
       "      <td>...</td>\n",
       "      <td>NaN</td>\n",
       "      <td>2.0</td>\n",
       "      <td>NaN</td>\n",
       "      <td>N</td>\n",
       "      <td>NaN</td>\n",
       "      <td>3090000-211-1977-00002</td>\n",
       "      <td>내국인</td>\n",
       "      <td>NaN</td>\n",
       "      <td>서울특별시 도봉구 덕릉로57길 22 (창동)</td>\n",
       "      <td>서울특별시 도봉구 창동  581번지 27호</td>\n",
       "    </tr>\n",
       "    <tr>\n",
       "      <td>4</td>\n",
       "      <td>3090000</td>\n",
       "      <td>211</td>\n",
       "      <td>1978</td>\n",
       "      <td>1</td>\n",
       "      <td>미용업(일반)</td>\n",
       "      <td>19780522</td>\n",
       "      <td>형제</td>\n",
       "      <td>49.50</td>\n",
       "      <td>02 9542434</td>\n",
       "      <td>19780522</td>\n",
       "      <td>...</td>\n",
       "      <td>NaN</td>\n",
       "      <td>5.0</td>\n",
       "      <td>NaN</td>\n",
       "      <td>N</td>\n",
       "      <td>NaN</td>\n",
       "      <td>3090000-211-1978-00001</td>\n",
       "      <td>내국인</td>\n",
       "      <td>NaN</td>\n",
       "      <td>서울특별시 도봉구 마들로 731 (도봉동)</td>\n",
       "      <td>서울특별시 도봉구 도봉동  626번지 90호</td>\n",
       "    </tr>\n",
       "  </tbody>\n",
       "</table>\n",
       "<p>5 rows × 29 columns</p>\n",
       "</div>"
      ],
      "text/plain": [
       "        시군구코드  업종코드    년도  업소일련번호      업종명      신고일자      업소명  영업장면적(㎡)  \\\n",
       "도봉 0  3090000   211  1971       1  미용업(일반)  19710527    샛별미용실     29.05   \n",
       "   1  3090000   211  1974       1  미용업(일반)  19740510     장미용실     13.69   \n",
       "   2  3090000   211  1977       1  미용업(일반)  19770128  자기연출미용실     18.00   \n",
       "   3  3090000   211  1977       2  미용업(일반)  19770928       세나     18.36   \n",
       "   4  3090000   211  1978       1  미용업(일반)  19780522       형제     49.50   \n",
       "\n",
       "         소재지전화번호    영업자시작일  ...  양실수  의자수  욕실수  발한실 세탁기수  \\\n",
       "도봉 0  02 9933947  19710527  ...  0.0  4.0  0.0    N  NaN   \n",
       "   1     9024674  20030318  ...  NaN  2.0  NaN    N  NaN   \n",
       "   2  02 9916085  19990127  ...  0.0  3.0  0.0    N  0.0   \n",
       "   3  02 9928457  19770928  ...  NaN  2.0  NaN    N  NaN   \n",
       "   4  02 9542434  19780522  ...  NaN  5.0  NaN    N  NaN   \n",
       "\n",
       "                    허가(신고)번호  내외국인구분   국적                      소재지도로명  \\\n",
       "도봉 0  3090000-211-1971-00001     내국인  NaN     서울특별시 도봉구 삼양로 590 (쌍문동)   \n",
       "   1  3090000-211-1974-00001     내국인  NaN  서울특별시 도봉구 도봉로121길 19 (쌍문동)   \n",
       "   2  3090000-211-1977-00001     내국인  NaN  서울특별시 도봉구 삼양로154길 33 (쌍문동)   \n",
       "   3  3090000-211-1977-00002     내국인  NaN    서울특별시 도봉구 덕릉로57길 22 (창동)   \n",
       "   4  3090000-211-1978-00001     내국인  NaN     서울특별시 도봉구 마들로 731 (도봉동)   \n",
       "\n",
       "                           소재지지번  \n",
       "도봉 0   서울특별시 도봉구 쌍문동  507번지 4호    \n",
       "   1  서울특별시 도봉구 쌍문동  81번지 283호    \n",
       "   2   서울특별시 도봉구 쌍문동  493번지 5호    \n",
       "   3   서울특별시 도봉구 창동  581번지 27호    \n",
       "   4  서울특별시 도봉구 도봉동  626번지 90호    \n",
       "\n",
       "[5 rows x 29 columns]"
      ]
     },
     "execution_count": 342,
     "metadata": {},
     "output_type": "execute_result"
    }
   ],
   "source": [
    "# 인덱스에 '지역'이 추가되고 그 값이 제대로 들어간 모습\n",
    "# df_list의 0번째 DF인 도봉구의 데이터로 확인\n",
    "df_list[0].head()"
   ]
  },
  {
   "cell_type": "code",
   "execution_count": 343,
   "metadata": {
    "scrolled": false
   },
   "outputs": [
    {
     "data": {
      "text/html": [
       "<div>\n",
       "<style scoped>\n",
       "    .dataframe tbody tr th:only-of-type {\n",
       "        vertical-align: middle;\n",
       "    }\n",
       "\n",
       "    .dataframe tbody tr th {\n",
       "        vertical-align: top;\n",
       "    }\n",
       "\n",
       "    .dataframe thead th {\n",
       "        text-align: right;\n",
       "    }\n",
       "</style>\n",
       "<table border=\"1\" class=\"dataframe\">\n",
       "  <thead>\n",
       "    <tr style=\"text-align: right;\">\n",
       "      <th></th>\n",
       "      <th></th>\n",
       "      <th>시군구코드</th>\n",
       "      <th>업종코드</th>\n",
       "      <th>년도</th>\n",
       "      <th>업소일련번호</th>\n",
       "      <th>업종명</th>\n",
       "      <th>신고일자</th>\n",
       "      <th>업소명</th>\n",
       "      <th>영업장면적(㎡)</th>\n",
       "      <th>소재지전화번호</th>\n",
       "      <th>영업자시작일</th>\n",
       "      <th>...</th>\n",
       "      <th>양실수</th>\n",
       "      <th>의자수</th>\n",
       "      <th>욕실수</th>\n",
       "      <th>발한실</th>\n",
       "      <th>세탁기수</th>\n",
       "      <th>허가(신고)번호</th>\n",
       "      <th>내외국인구분</th>\n",
       "      <th>국적</th>\n",
       "      <th>소재지도로명</th>\n",
       "      <th>소재지지번</th>\n",
       "    </tr>\n",
       "  </thead>\n",
       "  <tbody>\n",
       "    <tr>\n",
       "      <td rowspan=\"5\" valign=\"top\">용산</td>\n",
       "      <td>680</td>\n",
       "      <td>3020000</td>\n",
       "      <td>211</td>\n",
       "      <td>2020</td>\n",
       "      <td>1</td>\n",
       "      <td>미용업(일반)</td>\n",
       "      <td>20200106</td>\n",
       "      <td>오다헤어살롱미용실한남점</td>\n",
       "      <td>148.60</td>\n",
       "      <td>NaN</td>\n",
       "      <td>20200106</td>\n",
       "      <td>...</td>\n",
       "      <td>0.0</td>\n",
       "      <td>8.0</td>\n",
       "      <td>0.0</td>\n",
       "      <td>N</td>\n",
       "      <td>0.0</td>\n",
       "      <td>3020000-211-2020-00001</td>\n",
       "      <td>내국인</td>\n",
       "      <td>NaN</td>\n",
       "      <td>서울특별시 용산구 독서당로 70 현대리버티하우스 3층 306호 (한남동)</td>\n",
       "      <td>서울특별시 용산구 한남동  258번지  현대리버티하우스</td>\n",
       "    </tr>\n",
       "    <tr>\n",
       "      <td>681</td>\n",
       "      <td>3020000</td>\n",
       "      <td>211</td>\n",
       "      <td>2020</td>\n",
       "      <td>2</td>\n",
       "      <td>미용업(일반)</td>\n",
       "      <td>20200114</td>\n",
       "      <td>언더풀</td>\n",
       "      <td>40.86</td>\n",
       "      <td>NaN</td>\n",
       "      <td>20200114</td>\n",
       "      <td>...</td>\n",
       "      <td>0.0</td>\n",
       "      <td>2.0</td>\n",
       "      <td>0.0</td>\n",
       "      <td>N</td>\n",
       "      <td>0.0</td>\n",
       "      <td>3020000-211-2020-00002</td>\n",
       "      <td>내국인</td>\n",
       "      <td>NaN</td>\n",
       "      <td>서울특별시 용산구 이태원로54길 16-3 B1층 101호 (한남동)</td>\n",
       "      <td>서울특별시 용산구 한남동  682번지 13호</td>\n",
       "    </tr>\n",
       "    <tr>\n",
       "      <td>682</td>\n",
       "      <td>3020000</td>\n",
       "      <td>211</td>\n",
       "      <td>2020</td>\n",
       "      <td>3</td>\n",
       "      <td>미용업(일반)</td>\n",
       "      <td>20200122</td>\n",
       "      <td>컬러드바이</td>\n",
       "      <td>34.29</td>\n",
       "      <td>NaN</td>\n",
       "      <td>20200122</td>\n",
       "      <td>...</td>\n",
       "      <td>0.0</td>\n",
       "      <td>2.0</td>\n",
       "      <td>0.0</td>\n",
       "      <td>N</td>\n",
       "      <td>0.0</td>\n",
       "      <td>3020000-211-2020-00003</td>\n",
       "      <td>내국인</td>\n",
       "      <td>NaN</td>\n",
       "      <td>서울특별시 용산구 보광로59길 40 1층 201호 (이태원동)</td>\n",
       "      <td>서울특별시 용산구 이태원동  66번지 3호</td>\n",
       "    </tr>\n",
       "    <tr>\n",
       "      <td>683</td>\n",
       "      <td>3020000</td>\n",
       "      <td>211</td>\n",
       "      <td>2020</td>\n",
       "      <td>4</td>\n",
       "      <td>미용업(일반)</td>\n",
       "      <td>20200131</td>\n",
       "      <td>진주살롱</td>\n",
       "      <td>26.94</td>\n",
       "      <td>NaN</td>\n",
       "      <td>20200131</td>\n",
       "      <td>...</td>\n",
       "      <td>0.0</td>\n",
       "      <td>3.0</td>\n",
       "      <td>0.0</td>\n",
       "      <td>N</td>\n",
       "      <td>0.0</td>\n",
       "      <td>3020000-211-2020-00004</td>\n",
       "      <td>내국인</td>\n",
       "      <td>NaN</td>\n",
       "      <td>서울특별시 용산구 회나무로13가길 53 1층 (이태원동)</td>\n",
       "      <td>서울특별시 용산구 이태원동  258번지 340호</td>\n",
       "    </tr>\n",
       "    <tr>\n",
       "      <td>684</td>\n",
       "      <td>3020000</td>\n",
       "      <td>211</td>\n",
       "      <td>2020</td>\n",
       "      <td>5</td>\n",
       "      <td>미용업(일반)</td>\n",
       "      <td>20200221</td>\n",
       "      <td>아이앤투헤어럭셔리</td>\n",
       "      <td>42.00</td>\n",
       "      <td>NaN</td>\n",
       "      <td>20200221</td>\n",
       "      <td>...</td>\n",
       "      <td>0.0</td>\n",
       "      <td>0.0</td>\n",
       "      <td>0.0</td>\n",
       "      <td>N</td>\n",
       "      <td>0.0</td>\n",
       "      <td>3020000-211-2020-00005</td>\n",
       "      <td>내국인</td>\n",
       "      <td>NaN</td>\n",
       "      <td>서울특별시 용산구 이촌로 274 우진상가 105호 (이촌동)</td>\n",
       "      <td>서울특별시 용산구 이촌동  300번지 322호</td>\n",
       "    </tr>\n",
       "  </tbody>\n",
       "</table>\n",
       "<p>5 rows × 29 columns</p>\n",
       "</div>"
      ],
      "text/plain": [
       "          시군구코드  업종코드    년도  업소일련번호      업종명      신고일자           업소명  \\\n",
       "용산 680  3020000   211  2020       1  미용업(일반)  20200106  오다헤어살롱미용실한남점   \n",
       "   681  3020000   211  2020       2  미용업(일반)  20200114           언더풀   \n",
       "   682  3020000   211  2020       3  미용업(일반)  20200122         컬러드바이   \n",
       "   683  3020000   211  2020       4  미용업(일반)  20200131          진주살롱   \n",
       "   684  3020000   211  2020       5  미용업(일반)  20200221     아이앤투헤어럭셔리   \n",
       "\n",
       "        영업장면적(㎡) 소재지전화번호    영업자시작일  ...  양실수  의자수  욕실수  발한실 세탁기수  \\\n",
       "용산 680    148.60     NaN  20200106  ...  0.0  8.0  0.0    N  0.0   \n",
       "   681     40.86     NaN  20200114  ...  0.0  2.0  0.0    N  0.0   \n",
       "   682     34.29     NaN  20200122  ...  0.0  2.0  0.0    N  0.0   \n",
       "   683     26.94     NaN  20200131  ...  0.0  3.0  0.0    N  0.0   \n",
       "   684     42.00     NaN  20200221  ...  0.0  0.0  0.0    N  0.0   \n",
       "\n",
       "                      허가(신고)번호  내외국인구분   국적  \\\n",
       "용산 680  3020000-211-2020-00001     내국인  NaN   \n",
       "   681  3020000-211-2020-00002     내국인  NaN   \n",
       "   682  3020000-211-2020-00003     내국인  NaN   \n",
       "   683  3020000-211-2020-00004     내국인  NaN   \n",
       "   684  3020000-211-2020-00005     내국인  NaN   \n",
       "\n",
       "                                          소재지도로명  \\\n",
       "용산 680  서울특별시 용산구 독서당로 70 현대리버티하우스 3층 306호 (한남동)   \n",
       "   681     서울특별시 용산구 이태원로54길 16-3 B1층 101호 (한남동)   \n",
       "   682        서울특별시 용산구 보광로59길 40 1층 201호 (이태원동)   \n",
       "   683           서울특별시 용산구 회나무로13가길 53 1층 (이태원동)   \n",
       "   684         서울특별시 용산구 이촌로 274 우진상가 105호 (이촌동)   \n",
       "\n",
       "                                 소재지지번  \n",
       "용산 680  서울특별시 용산구 한남동  258번지  현대리버티하우스  \n",
       "   681      서울특별시 용산구 한남동  682번지 13호    \n",
       "   682       서울특별시 용산구 이태원동  66번지 3호    \n",
       "   683    서울특별시 용산구 이태원동  258번지 340호    \n",
       "   684     서울특별시 용산구 이촌동  300번지 322호    \n",
       "\n",
       "[5 rows x 29 columns]"
      ]
     },
     "execution_count": 343,
     "metadata": {},
     "output_type": "execute_result"
    }
   ],
   "source": [
    "# df_list에 담긴 DF를 concat() 함수로 합치기\n",
    "df_all = pd.concat(df_list)\n",
    "df_all.tail() # 마지막 5개 데이터 확인"
   ]
  },
  {
   "cell_type": "code",
   "execution_count": 344,
   "metadata": {},
   "outputs": [
    {
     "data": {
      "text/plain": [
       "28074"
      ]
     },
     "execution_count": 344,
     "metadata": {},
     "output_type": "execute_result"
    }
   ],
   "source": [
    "# 데이터 개수 확인\n",
    "len(df_all)"
   ]
  },
  {
   "cell_type": "code",
   "execution_count": 345,
   "metadata": {},
   "outputs": [],
   "source": [
    "# 업소명에 '?' 문자를 '샵' 문자로 치환하기\n",
    "df_all['업소명'] = list(map(lambda x: x.replace('?', '샵'), df_all['업소명'].values))"
   ]
  },
  {
   "cell_type": "code",
   "execution_count": 346,
   "metadata": {},
   "outputs": [
    {
     "data": {
      "text/plain": [
       "28025"
      ]
     },
     "execution_count": 346,
     "metadata": {},
     "output_type": "execute_result"
    }
   ],
   "source": [
    "# 모든 컬럼값이 중복인 row 제거\n",
    "df_all.drop_duplicates(keep='last', inplace=True)\n",
    "\n",
    "# 데이터 개수 확인\n",
    "len(df_all)"
   ]
  },
  {
   "cell_type": "code",
   "execution_count": 347,
   "metadata": {},
   "outputs": [
    {
     "name": "stdout",
     "output_type": "stream",
     "text": [
      "모든 데이터가 일치하여 제거된 중복 데이터 : 49 개\n"
     ]
    }
   ],
   "source": [
    "# 중복 제거 전 row 수 : 28074\n",
    "# 중복 제거 후 row 수 : 28025\n",
    "print('모든 데이터가 일치하여 제거된 중복 데이터 :', 28074-28025, '개')"
   ]
  },
  {
   "cell_type": "code",
   "execution_count": 348,
   "metadata": {},
   "outputs": [
    {
     "data": {
      "text/plain": [
       "도봉  0      False\n",
       "    1       True\n",
       "    2       True\n",
       "    3       True\n",
       "    4       True\n",
       "           ...  \n",
       "용산  680     True\n",
       "    681     True\n",
       "    682     True\n",
       "    683     True\n",
       "    684     True\n",
       "Name: 폐업일자, Length: 28025, dtype: bool"
      ]
     },
     "execution_count": 348,
     "metadata": {},
     "output_type": "execute_result"
    }
   ],
   "source": [
    "# '폐업일자'의 값이 NaN이면 영업중\n",
    "# '폐업일자'의 값이 NaN이 아니면 폐업된 것으로 판단\n",
    "# '폐업일자' 컬럼에 isnull() 함수를 적용한 불리언 배열\n",
    "df_all['폐업일자'].isnull()"
   ]
  },
  {
   "cell_type": "code",
   "execution_count": 349,
   "metadata": {
    "scrolled": true
   },
   "outputs": [
    {
     "data": {
      "text/plain": [
       "도봉  0      20190320.0\n",
       "    23     20170724.0\n",
       "    33     20200114.0\n",
       "    36     20151105.0\n",
       "    42     20180621.0\n",
       "              ...    \n",
       "용산  659    20200302.0\n",
       "    661    20190911.0\n",
       "    664    20191216.0\n",
       "    665    20191216.0\n",
       "    667    20191230.0\n",
       "Name: 폐업일자, Length: 8553, dtype: float64"
      ]
     },
     "execution_count": 349,
     "metadata": {},
     "output_type": "execute_result"
    }
   ],
   "source": [
    "df_all[df_all['폐업일자'].notnull()]['폐업일자']"
   ]
  },
  {
   "cell_type": "code",
   "execution_count": 350,
   "metadata": {},
   "outputs": [],
   "source": [
    "# 폐업한 미용실 정보가 8553개나 된다."
   ]
  },
  {
   "cell_type": "code",
   "execution_count": 351,
   "metadata": {},
   "outputs": [
    {
     "data": {
      "text/plain": [
       "19472"
      ]
     },
     "execution_count": 351,
     "metadata": {},
     "output_type": "execute_result"
    }
   ],
   "source": [
    "# '폐업일자' 컬럼이 NaN인, 영업중인 행만 불리언 색인\n",
    "df_all = df_all[df_all['폐업일자'].isnull()]\n",
    "\n",
    "# 데이터 개수 확인\n",
    "len(df_all)"
   ]
  },
  {
   "cell_type": "code",
   "execution_count": 352,
   "metadata": {},
   "outputs": [
    {
     "name": "stdout",
     "output_type": "stream",
     "text": [
      "drop된 폐업점 수 : 8553\n"
     ]
    }
   ],
   "source": [
    "# 폐업점 drop 전 : 28025 rows\n",
    "# 폐업점 drop 후 : 19472 rows\n",
    "print('drop된 폐업점 수 :', 28025 - 19472)"
   ]
  },
  {
   "cell_type": "markdown",
   "metadata": {},
   "source": [
    "---\n",
    "- 아래부터는 전처리 작업 완료(x)\n",
    "- 여러가지 데이터 뽑아 보면서 고민중"
   ]
  },
  {
   "cell_type": "code",
   "execution_count": 368,
   "metadata": {},
   "outputs": [
    {
     "data": {
      "text/html": [
       "<div>\n",
       "<style scoped>\n",
       "    .dataframe tbody tr th:only-of-type {\n",
       "        vertical-align: middle;\n",
       "    }\n",
       "\n",
       "    .dataframe tbody tr th {\n",
       "        vertical-align: top;\n",
       "    }\n",
       "\n",
       "    .dataframe thead th {\n",
       "        text-align: right;\n",
       "    }\n",
       "</style>\n",
       "<table border=\"1\" class=\"dataframe\">\n",
       "  <thead>\n",
       "    <tr style=\"text-align: right;\">\n",
       "      <th></th>\n",
       "      <th></th>\n",
       "      <th>시군구코드</th>\n",
       "      <th>업종코드</th>\n",
       "      <th>년도</th>\n",
       "      <th>업소일련번호</th>\n",
       "      <th>업종명</th>\n",
       "      <th>신고일자</th>\n",
       "      <th>업소명</th>\n",
       "      <th>영업장면적(㎡)</th>\n",
       "      <th>소재지전화번호</th>\n",
       "      <th>영업자시작일</th>\n",
       "      <th>...</th>\n",
       "      <th>양실수</th>\n",
       "      <th>의자수</th>\n",
       "      <th>욕실수</th>\n",
       "      <th>발한실</th>\n",
       "      <th>세탁기수</th>\n",
       "      <th>허가(신고)번호</th>\n",
       "      <th>내외국인구분</th>\n",
       "      <th>국적</th>\n",
       "      <th>소재지도로명</th>\n",
       "      <th>소재지지번</th>\n",
       "    </tr>\n",
       "  </thead>\n",
       "  <tbody>\n",
       "    <tr>\n",
       "      <td>도봉</td>\n",
       "      <td>1</td>\n",
       "      <td>3090000</td>\n",
       "      <td>211</td>\n",
       "      <td>1974</td>\n",
       "      <td>1</td>\n",
       "      <td>미용업(일반)</td>\n",
       "      <td>19740510</td>\n",
       "      <td>장미용실</td>\n",
       "      <td>13.69</td>\n",
       "      <td>9024674</td>\n",
       "      <td>20030318</td>\n",
       "      <td>...</td>\n",
       "      <td>NaN</td>\n",
       "      <td>2.0</td>\n",
       "      <td>NaN</td>\n",
       "      <td>N</td>\n",
       "      <td>NaN</td>\n",
       "      <td>3090000-211-1974-00001</td>\n",
       "      <td>내국인</td>\n",
       "      <td>NaN</td>\n",
       "      <td>서울특별시 도봉구 도봉로121길 19 (쌍문동)</td>\n",
       "      <td>서울특별시 도봉구 쌍문동  81번지 283호</td>\n",
       "    </tr>\n",
       "  </tbody>\n",
       "</table>\n",
       "<p>1 rows × 29 columns</p>\n",
       "</div>"
      ],
      "text/plain": [
       "        시군구코드  업종코드    년도  업소일련번호      업종명      신고일자   업소명  영업장면적(㎡)  소재지전화번호  \\\n",
       "도봉 1  3090000   211  1974       1  미용업(일반)  19740510  장미용실     13.69  9024674   \n",
       "\n",
       "        영업자시작일  ... 양실수  의자수 욕실수  발한실 세탁기수                허가(신고)번호  내외국인구분  \\\n",
       "도봉 1  20030318  ... NaN  2.0 NaN    N  NaN  3090000-211-1974-00001     내국인   \n",
       "\n",
       "       국적                      소재지도로명                       소재지지번  \n",
       "도봉 1  NaN  서울특별시 도봉구 도봉로121길 19 (쌍문동)  서울특별시 도봉구 쌍문동  81번지 283호    \n",
       "\n",
       "[1 rows x 29 columns]"
      ]
     },
     "execution_count": 368,
     "metadata": {},
     "output_type": "execute_result"
    }
   ],
   "source": [
    "# 전체 데이터 중 1개 row 조회\n",
    "df_all.head(1)"
   ]
  },
  {
   "cell_type": "code",
   "execution_count": 354,
   "metadata": {
    "scrolled": true
   },
   "outputs": [
    {
     "data": {
      "text/plain": [
       "Index(['시군구코드', '업종코드', '년도', '업소일련번호', '업종명', '신고일자', '업소명', '영업장면적(㎡)',\n",
       "       '소재지전화번호', '영업자시작일', '법인명', '소재지시작일', '행정동명', '폐업일자', '폐업사유', '업태명',\n",
       "       '위생교육수료일자', '객실수', '한실수', '양실수', '의자수', '욕실수', '발한실', '세탁기수',\n",
       "       '허가(신고)번호', '내외국인구분', '국적', '소재지도로명', '소재지지번'],\n",
       "      dtype='object')"
      ]
     },
     "execution_count": 354,
     "metadata": {},
     "output_type": "execute_result"
    }
   ],
   "source": [
    "# 데이터 column명 확인\n",
    "df_all.columns"
   ]
  },
  {
   "cell_type": "code",
   "execution_count": 357,
   "metadata": {},
   "outputs": [
    {
     "data": {
      "text/plain": [
       "{'미용업(일반)'}"
      ]
     },
     "execution_count": 357,
     "metadata": {},
     "output_type": "execute_result"
    }
   ],
   "source": [
    "# 업종명 종류\n",
    "set(df_all['업종명'].values)"
   ]
  },
  {
   "cell_type": "code",
   "execution_count": 358,
   "metadata": {},
   "outputs": [
    {
     "data": {
      "text/plain": [
       "{'기타', '네일아트업', '메이크업업', '숙박업 기타', '일반미용업', '일반이용업'}"
      ]
     },
     "execution_count": 358,
     "metadata": {},
     "output_type": "execute_result"
    }
   ],
   "source": [
    "# 업태명 종류\n",
    "set(df_all['업태명'].values)"
   ]
  },
  {
   "cell_type": "code",
   "execution_count": 359,
   "metadata": {},
   "outputs": [
    {
     "data": {
      "text/plain": [
       "185"
      ]
     },
     "execution_count": 359,
     "metadata": {},
     "output_type": "execute_result"
    }
   ],
   "source": [
    "# '업태명'이 '네일아트업'으로 등록된 데이터 수 \n",
    "len(df_all[df_all['업태명'] == '네일아트업'])"
   ]
  },
  {
   "cell_type": "code",
   "execution_count": 355,
   "metadata": {
    "scrolled": true
   },
   "outputs": [
    {
     "data": {
      "text/plain": [
       "['엣지헤어앤네일',\n",
       " '시크릿 네일',\n",
       " '윙크헤어&네일',\n",
       " '핑크네일',\n",
       " '핑크네일.속눈썹',\n",
       " '포쉬 네일',\n",
       " '포쉬 네일',\n",
       " '포쉬 네일',\n",
       " '포쉬 네일',\n",
       " '더키네일&속눈썹',\n",
       " '더네일',\n",
       " '네일스토리',\n",
       " '루비네일',\n",
       " '네일플러스',\n",
       " '수앤수 네일아트',\n",
       " '수앤수 네일아트',\n",
       " '수앤수 네일아트',\n",
       " '수앤수 네일아트',\n",
       " '비앤비네일',\n",
       " '맑은 네일',\n",
       " '토마토네일',\n",
       " '미스네일',\n",
       " '네일 에비뉴',\n",
       " '시트린네일',\n",
       " '네일스캐치',\n",
       " '네일스캐치',\n",
       " '네일스캐치',\n",
       " '네일스캐치',\n",
       " '비비드네일&속눈썹',\n",
       " '쥬네일',\n",
       " '네일앤케이눈썹',\n",
       " '네일앤케이눈썹',\n",
       " '루하스네일엔케이눈썹',\n",
       " '루하스네일엔케이눈썹',\n",
       " '네일앤케이눈썹',\n",
       " '네일앤케이눈썹',\n",
       " '루하스네일엔케이눈썹',\n",
       " '루하스네일엔케이눈썹',\n",
       " '뷰티헤어&네일',\n",
       " '네일맑음',\n",
       " '네일맑음',\n",
       " '제이제이헤어네일(JJ HAIR NAIL)',\n",
       " '네일스퀘어',\n",
       " '네일애',\n",
       " '정현네일',\n",
       " '네일카페',\n",
       " 'L-Nail(엘네일)',\n",
       " '네일하우스',\n",
       " '마리골드 네일',\n",
       " '솜씨네일',\n",
       " '티나조네일',\n",
       " '조은 네일',\n",
       " '반디네일호텔오크우드점',\n",
       " '네코네일',\n",
       " '파스텔네일',\n",
       " '코코네일',\n",
       " '포쉬네일 가로수길점',\n",
       " '네일라인 가로수길점',\n",
       " '네일 원',\n",
       " '네일탐이나',\n",
       " '울랄라 네일',\n",
       " '뷰티네일',\n",
       " '루나네일',\n",
       " '네일앤네일',\n",
       " '코코네일',\n",
       " '엠네일(M nail)',\n",
       " '네일아트 인',\n",
       " '네일 feliz(펠리스)',\n",
       " '으뜸네일샵',\n",
       " '으뜸네일샵',\n",
       " '네일홀릭',\n",
       " 'W 에비뉴 헤어살롱 네일',\n",
       " '트윙클네일',\n",
       " '네일 바이 민(nail by min)',\n",
       " '네일트리',\n",
       " '아이뷰 속눈썹 네일',\n",
       " '오네일 앤 속눈썹',\n",
       " '네일 하니',\n",
       " '네일 하니',\n",
       " '개봉동 네일 속눈썹 발라버려',\n",
       " '개봉동 네일 속눈썹 발라버려',\n",
       " '윤헤어&네일',\n",
       " '여우별 네일아트',\n",
       " '네일 데이',\n",
       " '프리티 네일',\n",
       " '호박네일',\n",
       " '네일온',\n",
       " '실버네일',\n",
       " '블링블링네일샵',\n",
       " '부미 네일 속눈썹 헤어',\n",
       " '예그리나네일',\n",
       " '네일의여왕',\n",
       " '네일라',\n",
       " '라임헤어&네일',\n",
       " '네일여행',\n",
       " '코코로네일',\n",
       " '코코로네일',\n",
       " '프랜들리네일',\n",
       " '짱 네일아트',\n",
       " '네일리본',\n",
       " '찰스네일',\n",
       " '찰스네일',\n",
       " '엘사 네일',\n",
       " '엠헤어네일',\n",
       " \"Song's 네일\",\n",
       " '네일스토리',\n",
       " '프린 네일',\n",
       " '푸딩네일',\n",
       " '네일',\n",
       " '삼층네일',\n",
       " '바오네일',\n",
       " '네일퀸',\n",
       " '뉴욕네일앤스파',\n",
       " '내일은네일',\n",
       " '네일앤네일(Nail&nail)',\n",
       " '칼라네일',\n",
       " '루미네일',\n",
       " 'S 네일',\n",
       " '쉬끄네일',\n",
       " '플로르네일',\n",
       " '오렌지네일',\n",
       " '데이지 네일',\n",
       " '윤호네일',\n",
       " '윤호네일',\n",
       " '윤호네일',\n",
       " '윤호네일',\n",
       " '오키네일',\n",
       " '오즈네일샵',\n",
       " '퀸즈속눈썹네일붙임머리',\n",
       " '네일 엔',\n",
       " '지네일',\n",
       " '타라네일 & 속눈썹',\n",
       " '엔팁네일 (N. TIP nail & make up)',\n",
       " 'ug 젤네일 #',\n",
       " '숲속랜드네일아트',\n",
       " '마레네일',\n",
       " '여기!네일&속눈썹',\n",
       " '제니네일샵',\n",
       " '제이제이네일',\n",
       " '캣츠네일',\n",
       " '더네일샵(the NAIL#)',\n",
       " '에스네일(S nail)',\n",
       " '헤어별 네일',\n",
       " 'young nail(영네일)',\n",
       " '벨르네일아트',\n",
       " '벨르네일아트',\n",
       " '팅커벨 네일아트',\n",
       " '꼼꼼네일',\n",
       " '네일뷰',\n",
       " '카라네일',\n",
       " '네일앤젤',\n",
       " '퀸네일',\n",
       " '사틴네일',\n",
       " '루덴네일',\n",
       " '네일블랑',\n",
       " '앤네일(Ann nail)',\n",
       " '파라곤네일아트',\n",
       " '잇네일',\n",
       " '네코네일',\n",
       " '디네일',\n",
       " '예쁜손 네일 아트',\n",
       " '예쁜손 네일 아트',\n",
       " '에스 네일(S nail)',\n",
       " '디오네일',\n",
       " '다이타네일',\n",
       " '네일타임',\n",
       " '네일스토리',\n",
       " '네일클로버',\n",
       " '네일린']"
      ]
     },
     "execution_count": 355,
     "metadata": {},
     "output_type": "execute_result"
    }
   ],
   "source": [
    "# 전체 데이터 중에 '업소명'에 '네일'이 포함된 이름 뽑아보기\n",
    "nail_list = list(filter(lambda x: '네일' in x, df_all['업소명'].values))\n",
    "nail_list"
   ]
  },
  {
   "cell_type": "code",
   "execution_count": 356,
   "metadata": {},
   "outputs": [
    {
     "data": {
      "text/plain": [
       "169"
      ]
     },
     "execution_count": 356,
     "metadata": {},
     "output_type": "execute_result"
    }
   ],
   "source": [
    "# 전체 데이터 중에 '업소명'에 '네일'이 들어가는 데이터 수\n",
    "len(nail_list)"
   ]
  },
  {
   "cell_type": "code",
   "execution_count": 360,
   "metadata": {},
   "outputs": [],
   "source": [
    "# '업태명'이 '네일아트업'이 아닌 데이터 - not_nail\n",
    "not_nail = df_all[df_all['업태명'] != '네일아트업']"
   ]
  },
  {
   "cell_type": "code",
   "execution_count": 361,
   "metadata": {},
   "outputs": [
    {
     "name": "stdout",
     "output_type": "stream",
     "text": [
      "['엣지헤어앤네일', '윙크헤어&네일', '핑크네일.속눈썹', '네일플러스', '뷰티헤어&네일', '제이제이헤어네일(JJ HAIR NAIL)', '네일스퀘어', '네일애', 'L-Nail(엘네일)', '조은 네일', '네코네일', '파스텔네일', '뷰티네일', '엠네일(M nail)', 'W 에비뉴 헤어살롱 네일', '네일트리', '아이뷰 속눈썹 네일', '오네일 앤 속눈썹', '윤헤어&네일', '호박네일', '부미 네일 속눈썹 헤어', '라임헤어&네일', '네일리본', '엠헤어네일', '데이지 네일', '오키네일', '퀸즈속눈썹네일붙임머리', '지네일', '여기!네일&속눈썹', '에스네일(S nail)', '헤어별 네일', 'young nail(영네일)']\n",
      "\n",
      "개수 : 32\n"
     ]
    }
   ],
   "source": [
    "# not_nail 중에 '업소명'에 '네일'아 들어가는 경우\n",
    "nail_list2 = list(filter(lambda x: '네일' in x, not_nail['업소명'].values))\n",
    "print(nail_list2)\n",
    "print()\n",
    "print('개수 :', len(nail_list2))"
   ]
  },
  {
   "cell_type": "code",
   "execution_count": 362,
   "metadata": {
    "scrolled": false
   },
   "outputs": [
    {
     "data": {
      "text/plain": [
       "4489"
      ]
     },
     "execution_count": 362,
     "metadata": {},
     "output_type": "execute_result"
    }
   ],
   "source": [
    "len(df_all[df_all.duplicated(['소재지도로명'])])"
   ]
  },
  {
   "cell_type": "code",
   "execution_count": 363,
   "metadata": {},
   "outputs": [
    {
     "data": {
      "text/plain": [
       "4633"
      ]
     },
     "execution_count": 363,
     "metadata": {},
     "output_type": "execute_result"
    }
   ],
   "source": [
    "len(df_all[df_all.duplicated(['소재지지번'])])"
   ]
  },
  {
   "cell_type": "code",
   "execution_count": 364,
   "metadata": {},
   "outputs": [
    {
     "data": {
      "text/plain": [
       "5098"
      ]
     },
     "execution_count": 364,
     "metadata": {},
     "output_type": "execute_result"
    }
   ],
   "source": [
    "len(df_all[df_all.duplicated(['허가(신고)번호'])])"
   ]
  },
  {
   "cell_type": "code",
   "execution_count": 365,
   "metadata": {
    "scrolled": true
   },
   "outputs": [
    {
     "data": {
      "text/plain": [
       "7576"
      ]
     },
     "execution_count": 365,
     "metadata": {},
     "output_type": "execute_result"
    }
   ],
   "source": [
    "len(df_all[df_all.duplicated(['업소명'])])"
   ]
  },
  {
   "cell_type": "code",
   "execution_count": 366,
   "metadata": {},
   "outputs": [],
   "source": [
    "# 모든 데이터가 일치하여 제거된 중복 데이터 수\n",
    "#     49개\n",
    "    \n",
    "# drop된 폐업점 데이터 수\n",
    "#     8553개\n",
    "\n",
    "############################################################\n",
    "    \n",
    "# 업종명 종류\n",
    "#     '미용업(일반)'\n",
    "#     1개\n",
    "\n",
    "# 업태명 종류\n",
    "#     '기타', '네일아트업', '메이크업업', '숙박업 기타', '일반미용업', '일반이용업'\n",
    "#     6개\n",
    "\n",
    "# '업태명'이 '네일아트업'으로 등록된 데이터 수 \n",
    "#     185개\n",
    "\n",
    "# 전체 데이터 중에 '업소명'에 '네일'이 들어가는 데이터 수\n",
    "#     169개\n",
    "\n",
    "# '업태명'이 '네일아트업'이 아닌 데이터 중 '업소명'에 '네일'이 들어가는 데이터 수\n",
    "#      32개\n",
    "    \n",
    "# 도로명주소가 중복       4489개\n",
    "# 지번주소가 중복         4633개\n",
    "# 허가(신고)번호가 중복   5098개  \n",
    "# 업소명이 중복           7576개 \n",
    "\n",
    "# 어떻게 처리해야 할까?"
   ]
  },
  {
   "cell_type": "code",
   "execution_count": null,
   "metadata": {},
   "outputs": [],
   "source": []
  }
 ],
 "metadata": {
  "kernelspec": {
   "display_name": "Python 3",
   "language": "python",
   "name": "python3"
  },
  "language_info": {
   "codemirror_mode": {
    "name": "ipython",
    "version": 3
   },
   "file_extension": ".py",
   "mimetype": "text/x-python",
   "name": "python",
   "nbconvert_exporter": "python",
   "pygments_lexer": "ipython3",
   "version": "3.7.4"
  }
 },
 "nbformat": 4,
 "nbformat_minor": 2
}
